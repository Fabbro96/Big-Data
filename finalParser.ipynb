{
 "cells": [
  {
   "cell_type": "code",
   "execution_count": null,
   "metadata": {},
   "outputs": [],
   "source": [
    "import csv\n",
    "from lxml import etree\n",
    "'''from nltk.tokenize import sent_tokenize, word_tokenize\n",
    "from nltk.corpus import stopwords\n",
    "import nltk\n",
    "nltk.download('stopwords')'''\n",
    "\n",
    "header = ['Title', 'Text']\n",
    "f= open(\"file.csv\", \"w+\")\n",
    "writer = csv.writer(f)\n",
    "writer.writerow(header)\n",
    "lista = []\n",
    "\n",
    "totalCount = 0\n",
    "for event, elem in etree.iterparse(\"/home/fabbro/Documents/Cartella/fileWiki.xml\"):\n",
    "    text = \"\"\n",
    "    title=\"\"\n",
    "    if('title' in str(elem.tag)):\n",
    "        #title_list.append(elem.text)\n",
    "        #titoliTxt.write(elem.text+\"\\n\")\n",
    "        if(len(str(elem.text)) > 0):\n",
    "            title = elem.text\n",
    "            lista.append(title)\n",
    "    if('text' in str(elem.tag)):\n",
    "        #text_list.append(elem.text)\n",
    "        if(len(str(elem.text)) > 0):\n",
    "            #paroleTxt.write(elem.text+\"\\n\")\n",
    "            text = elem.text\n",
    "            '''stop_words = set(stopwords.words('english'))\n",
    "            word_tokens = word_tokenize(elem.text)\n",
    "            \n",
    "            filtered_sentence = [w for w in word_tokens if not w.lower() in stop_words]\n",
    "            for w in word_tokens:\n",
    "                if w not in stop_words:\n",
    "                    filtered_sentence.append(w)\n",
    "            print(str(filtered_sentence))'''\n",
    "            #lista.append(str(filtered_sentence))\n",
    "            lista.append(text)\n",
    "    if len(lista) == 2:\n",
    "        writer.writerow([lista[0], lista[1]])\n",
    "        lista=[]\n",
    "    elem.clear()\n",
    "    totalCount += 1\n",
    "    if totalCount > 1 and (totalCount % 100000) == 0:\n",
    "            print(\"{:,}\".format(totalCount)+\" rows written of 356,900,000\")\n",
    "    '''if totalCount > 35000:\n",
    "        break'''\n",
    "f.close()\n",
    "print(\"-------------------------------------------DONE------------------------------------------------------\")\n"
   ]
  },
  {
   "attachments": {},
   "cell_type": "markdown",
   "metadata": {},
   "source": [
    "---"
   ]
  },
  {
   "attachments": {},
   "cell_type": "markdown",
   "metadata": {},
   "source": [
    "Various imports"
   ]
  },
  {
   "cell_type": "code",
   "execution_count": 16,
   "metadata": {},
   "outputs": [],
   "source": [
    "import csv\n",
    "from lxml import etree\n",
    "import nltk\n",
    "from nltk.corpus import stopwords\n",
    "import mwparserfromhell\n",
    "import re\n",
    "import os.path\n",
    "from progress.bar import Bar\n",
    "from tqdm import tqdm"
   ]
  },
  {
   "attachments": {},
   "cell_type": "markdown",
   "metadata": {},
   "source": [
    "Static things"
   ]
  },
  {
   "cell_type": "code",
   "execution_count": 4,
   "metadata": {},
   "outputs": [
    {
     "name": "stderr",
     "output_type": "stream",
     "text": [
      "[nltk_data] Downloading package stopwords to /home/fabbro/nltk_data...\n",
      "[nltk_data]   Package stopwords is already up-to-date!\n"
     ]
    }
   ],
   "source": [
    "nltk.download(\"stopwords\")\n",
    "stop_words = set(stopwords.words(\"english\"))\n",
    "header = ['Title', 'Text']\n",
    "lista = []"
   ]
  },
  {
   "attachments": {},
   "cell_type": "markdown",
   "metadata": {},
   "source": [
    "Dinamic things"
   ]
  },
  {
   "cell_type": "code",
   "execution_count": null,
   "metadata": {},
   "outputs": [],
   "source": [
    "f= open(\"file.csv\", \"w+\")\n",
    "writer = csv.writer(f)\n",
    "writer.writerow(header)\n",
    "totalCount = 0\n",
    "file_xml= ''\n",
    "if os.path.isfile(\"/home/fabbro/Documents/Cartella/fileWiki.xml\"):\n",
    "    file_xml = \"/home/fabbro/Documents/Cartella/fileWiki.xml\"\n",
    "elif os.path.isfile(\"/home/fabbro/Documents/Big-Data/file.xml\"):\n",
    "    file_xml = \"/home/fabbro/Documents/Big-Data/file.xml\"\n",
    "\n",
    "for event, elem in etree.iterparse(file_xml):\n",
    "    text = \"\"\n",
    "    title=\"\"\n",
    "    if('title' in str(elem.tag)):\n",
    "        #title_list.append(elem.text)\n",
    "        #titoliTxt.write(elem.text+\"\\n\")\n",
    "        if(elem.text is not None):\n",
    "            title = elem.text.lower()\n",
    "            title = \" \".join([word for word in title.split() if word not in stop_words])\n",
    "            lista.append(title)\n",
    "            #print(title)\n",
    "\n",
    "    if('text' in str(elem.tag)):\n",
    "        #text_list.append(elem.text)\n",
    "        if(elem.text is not None):\n",
    "            text = elem.text.lower()\n",
    "            text = \" \".join([word for word in text.split() if word not in stop_words])\n",
    "            lista.append(text)\n",
    "            #print(text)\n",
    "            \n",
    "    if len(lista) == 2:\n",
    "        writer.writerow([lista[0], lista[1]])\n",
    "        lista=[]\n",
    "    elem.clear()\n",
    "    totalCount += 1\n",
    "    if totalCount > 1 and (totalCount % 100000) == 0:\n",
    "            print(\"{:,}\".format(totalCount)+\" rows written of 356,900,000\")\n",
    "    '''if totalCount > 35000:\n",
    "        break'''\n",
    "f.close()\n",
    "print(\"-------------------------------------------DONE------------------------------------------------------\")\n"
   ]
  },
  {
   "attachments": {},
   "cell_type": "markdown",
   "metadata": {},
   "source": [
    "---"
   ]
  },
  {
   "attachments": {},
   "cell_type": "markdown",
   "metadata": {},
   "source": [
    "Removing the tags with the class 'mwparserfromhell'"
   ]
  },
  {
   "cell_type": "code",
   "execution_count": 20,
   "metadata": {},
   "outputs": [
    {
     "name": "stdout",
     "output_type": "stream",
     "text": [
      "Defaulting to user installation because normal site-packages is not writeable\n",
      "Requirement already satisfied: mwparserfromhell in /home/fabbro/.local/lib/python3.10/site-packages (0.6.4)\n",
      "Note: you may need to restart the kernel to use updated packages.\n"
     ]
    }
   ],
   "source": [
    "pip install mwparserfromhell"
   ]
  },
  {
   "cell_type": "code",
   "execution_count": 63,
   "metadata": {},
   "outputs": [
    {
     "name": "stdout",
     "output_type": "stream",
     "text": [
      "I has a template! {{foo|bar|baz|eggs=spam}} See it? [[fox]]\n",
      "I has a template! See it? [[fox]]\n"
     ]
    },
    {
     "data": {
      "text/plain": [
       "\"text_list = text.split(' ')\\nfor x in range(len(text_list)):\\n    if text_list[x] not in templates:\\n        print(text_list[x])\""
      ]
     },
     "execution_count": 63,
     "metadata": {},
     "output_type": "execute_result"
    }
   ],
   "source": [
    "import mwparserfromhell\n",
    "\n",
    "wikitext = '''The quick brown [[fox]] jumps over the lazy [[dog]].\n",
    "[[Category:Animals]]\n",
    "== See also ==\n",
    "* [[Fox]]\n",
    "* [[Dog]]\n",
    "* [[Lion]]'''\n",
    "'''\n",
    "parsed_wikitext = parser(wikitext)\n",
    "\n",
    "for element in parsed_wikitext.filter_wikilinks():\n",
    "    print(element)'''\n",
    "\n",
    "text = \"I has a template! {{foo|bar|baz|eggs=spam}} See it? [[fox]]\"\n",
    "wikicode = mwparserfromhell.parse(text)\n",
    "print(wikicode)\n",
    "templates = wikicode.filter_templates()\n",
    "text = \" \".join([testo for testo in text.split() if testo not in templates])\n",
    "print(text)\n",
    "'''text_list = text.split(' ')\n",
    "for x in range(len(text_list)):\n",
    "    if text_list[x] not in templates:\n",
    "        print(text_list[x])'''"
   ]
  },
  {
   "attachments": {},
   "cell_type": "markdown",
   "metadata": {},
   "source": [
    "----\n",
    "Removing the sections from the wikipedia dump"
   ]
  },
  {
   "cell_type": "code",
   "execution_count": 36,
   "metadata": {},
   "outputs": [
    {
     "name": "stdout",
     "output_type": "stream",
     "text": [
      "new york is a state in the northeastern united states and is the 27th-most extensive, fourth-most populous, and seventh-most densely populated u.s. state. new york is bordered by new jersey and pennsylvania to the south and connecticut, massachusetts, and vermont to the east. the state has a maritime border in the atlantic ocean with rhode island, east of long island, as well as an international border with the canadian provinces of quebec to the north and ontario to the west and north. the state of new york, with an estimated 19.8 million residents in 2015, is often referred to as new york state to distinguish it from new york city, the state's most populous city and its economic hub.\n",
      "-----------------------------\n",
      "with an estimated population of 8.55 million in 2015, new york city is the most populous city in the united states and the premier gateway for legal immigration to the united states. the new york city metropolitan area is one of the most populous urban agglomerations in the world. new york city is a global city, exerting a significant impact upon commerce, finance, media, art, fashion, research, technology, education, and entertainment, its fast pace defining the term new york minute. the home of the united nations headquarters, new york city is an important center for international diplomacy and has been described as the cultural and financial capital of the world, as well as the world's most economically powerful city. new york city makes up over 40% of the population of new york state. two-thirds of the state's population lives in the new york city metropolitan area, and nearly 40% live on long island. both the state and new york city were named for the 17th century duke of york, future king james ii of england. the next four most populous cities in the state are buffalo, rochester, yonkers, and syracuse, while the state capital is albany.\n",
      "-----------------------------\n",
      "the earliest europeans in new york were french colonists and jesuit missionaries who arrived southward from settlements at montreal for trade and proselytizing. new york had been inhabited by tribes of algonquian and iroquoian-speaking native americans for several hundred years by the time dutch settlers moved into the region in the early 17th century. in 1609, the region was first claimed by henry hudson for the dutch, who built fort nassau in 1614 at the confluence of the hudson and mohawk rivers, where the present-day capital of albany later developed. the dutch soon also settled new amsterdam and parts of the hudson valley, establishing the colony of new netherland, a multicultural community from its earliest days and a center of trade and immigration. the british annexed the colony from the dutch in 1664. the borders of the british colony, the province of new york, were similar to those of the present-day state.\n",
      "-----------------------------\n",
      "many landmarks in new york are well known to both international and domestic visitors, with new york state hosting four of the world's ten most-visited tourist attractions in 2013: times square, central park, niagara falls (shared with ontario), and grand central terminal. new york is home to the statue of liberty, a symbol of the united states and its ideals of freedom, democracy, and opportunity. in the 21st century, new york has emerged as a global node of creativity and entrepreneurship, social tolerance, and environmental sustainability. new york's higher education network comprises approximately 200 colleges and universities, including columbia university, cornell university, new york university, and rockefeller university, which have been ranked among the top 35 in the world.\n",
      "-----------------------------\n",
      "in 1524, giovanni da verrazzano, an italian explorer in the service of the french crown, explored the atlantic coast of north america between the carolinas and newfoundland, including new york harbor and narragansett bay. on april 17, 1524 verrazanno entered new york bay, by way of the strait now called the narrows into the northern bay which he named santa margherita, in honour of the king of france's sister. verrazzano described it as \"a vast coastline with a deep delta in which every kind of ship could pass\" and he adds: \"that it extends inland for a league and opens up to form a beautiful lake. this vast sheet of water swarmed with native boats\". he landed on the tip of manhattan and perhaps on the furthest point of long island. verrazanno's stay in this place was interrupted by a storm which pushed him north towards martha's vineyard.\n",
      "-----------------------------\n",
      "in 1540 french traders from new france built a chateau on castle island, within present-day albany; due to flooding, it was abandoned the next year. in 1614, the dutch under the command of hendrick corstiaensen, rebuilt the french chateau, which they called fort nassau. fort nassau was the first dutch settlement in north america, and was located along the hudson river, also within present-day albany. the small fort served as a trading post and warehouse. located on the hudson river flood plain, the rudimentary \"fort\" was washed away by flooding in 1617, and abandoned for good after fort orange (new netherland) was built nearby in 1623.\n",
      "-----------------------------\n",
      "henry hudson's 1609 voyage marked the beginning of european involvement with the area. sailing for the dutch east india company and looking for a passage to asia, he entered the upper new york bay on september 11 of that year. word of his findings encouraged dutch merchants to explore the coast in search for profitable fur trading with local native american tribes.\n",
      "-----------------------------\n",
      "during the 17th century, dutch trading posts established for the trade of pelts from the lenape, iroquois, and other tribes were founded in the colony of new netherland. the first of these trading posts were fort nassau (1614, near present-day albany); fort orange (1624, on the hudson river just south of the current city of albany and created to replace fort nassau), developing into settlement beverwijck (1647), and into what became albany; fort amsterdam (1625, to develop into the town new amsterdam which is present-day new york city); and esopus, (1653, now kingston). the success of the patroonship of rensselaerswyck (1630), which surrounded albany and lasted until the mid-19th century, was also a key factor in the early success of the colony. the english captured the colony during the second anglo-dutch war and governed it as the province of new york. the city of new york was recaptured by the dutch in 1673 during the third anglo-dutch war (1672–1674) and renamed new orange. it was returned to the english under the terms of the treaty of westminster a year later.\n",
      "-----------------------------\n"
     ]
    }
   ],
   "source": [
    "import re\n",
    "\n",
    "testo = ''' New York is a state in the Northeastern United States and is the 27th-most extensive, fourth-most populous, and seventh-most densely populated U.S. state. New York is bordered by New Jersey and Pennsylvania to the south and Connecticut, Massachusetts, and Vermont to the east. The state has a maritime border in the Atlantic Ocean with Rhode Island, east of Long Island, as well as an international border with the Canadian provinces of Quebec to the north and Ontario to the west and north. The state of New York, with an estimated 19.8 million residents in 2015, is often referred to as New York State to distinguish it from New York City, the state's most populous city and its economic hub.\n",
    "With an estimated population of 8.55 million in 2015, New York City is the most populous city in the United States and the premier gateway for legal immigration to the United States. The New York City Metropolitan Area is one of the most populous urban agglomerations in the world. New York City is a global city, exerting a significant impact upon commerce, finance, media, art, fashion, research, technology, education, and entertainment, its fast pace defining the term New York minute. The home of the United Nations Headquarters, New York City is an important center for international diplomacy and has been described as the cultural and financial capital of the world, as well as the world's most economically powerful city. New York City makes up over 40% of the population of New York State. Two-thirds of the state's population lives in the New York City Metropolitan Area, and nearly 40% live on Long Island. Both the state and New York City were named for the 17th century Duke of York, future King James II of England. The next four most populous cities in the state are Buffalo, Rochester, Yonkers, and Syracuse, while the state capital is Albany.\n",
    "The earliest Europeans in New York were French colonists and Jesuit missionaries who arrived southward from settlements at Montreal for trade and proselytizing. New York had been inhabited by tribes of Algonquian and Iroquoian-speaking Native Americans for several hundred years by the time Dutch settlers moved into the region in the early 17th century. In 1609, the region was first claimed by Henry Hudson for the Dutch, who built Fort Nassau in 1614 at the confluence of the Hudson and Mohawk rivers, where the present-day capital of Albany later developed. The Dutch soon also settled New Amsterdam and parts of the Hudson Valley, establishing the colony of New Netherland, a multicultural community from its earliest days and a center of trade and immigration. The British annexed the colony from the Dutch in 1664. The borders of the British colony, the Province of New York, were similar to those of the present-day state.\n",
    "Many landmarks in New York are well known to both international and domestic visitors, with New York State hosting four of the world's ten most-visited tourist attractions in 2013: Times Square, Central Park, Niagara Falls (shared with Ontario), and Grand Central Terminal. New York is home to the Statue of Liberty, a symbol of the United States and its ideals of freedom, democracy, and opportunity. In the 21st century, New York has emerged as a global node of creativity and entrepreneurship, social tolerance, and environmental sustainability. New York's higher education network comprises approximately 200 colleges and universities, including Columbia University, Cornell University, New York University, and Rockefeller University, which have been ranked among the top 35 in the world.\n",
    "\n",
    "\n",
    "== History ==\n",
    "\n",
    "\n",
    "=== 16th century ===\n",
    "In 1524, Giovanni da Verrazzano, an Italian explorer in the service of the French crown, explored the Atlantic coast of North America between the Carolinas and Newfoundland, including New York Harbor and Narragansett Bay. On April 17, 1524 Verrazanno entered New York Bay, by way of the Strait now called the Narrows into the northern bay which he named Santa Margherita, in honour of the King of France's sister. Verrazzano described it as \"a vast coastline with a deep delta in which every kind of ship could pass\" and he adds: \"that it extends inland for a league and opens up to form a beautiful lake. This vast sheet of water swarmed with native boats\". He landed on the tip of Manhattan and perhaps on the furthest point of Long Island. Verrazanno's stay in this place was interrupted by a storm which pushed him north towards Martha's Vineyard.\n",
    "In 1540 French traders from New France built a chateau on Castle Island, within present-day Albany; due to flooding, it was abandoned the next year. In 1614, the Dutch under the command of Hendrick Corstiaensen, rebuilt the French chateau, which they called Fort Nassau. Fort Nassau was the first Dutch settlement in North America, and was located along the Hudson River, also within present-day Albany. The small fort served as a trading post and warehouse. Located on the Hudson River flood plain, the rudimentary \"fort\" was washed away by flooding in 1617, and abandoned for good after Fort Orange (New Netherland) was built nearby in 1623.\n",
    "\n",
    "\n",
    "=== 17th century ===\n",
    "\n",
    "Henry Hudson's 1609 voyage marked the beginning of European involvement with the area. Sailing for the Dutch East India Company and looking for a passage to Asia, he entered the Upper New York Bay on September 11 of that year. Word of his findings encouraged Dutch merchants to explore the coast in search for profitable fur trading with local Native American tribes.\n",
    "During the 17th century, Dutch trading posts established for the trade of pelts from the Lenape, Iroquois, and other tribes were founded in the colony of New Netherland. The first of these trading posts were Fort Nassau (1614, near present-day Albany); Fort Orange (1624, on the Hudson River just south of the current city of Albany and created to replace Fort Nassau), developing into settlement Beverwijck (1647), and into what became Albany; Fort Amsterdam (1625, to develop into the town New Amsterdam which is present-day New York City); and Esopus, (1653, now Kingston). The success of the patroonship of Rensselaerswyck (1630), which surrounded Albany and lasted until the mid-19th century, was also a key factor in the early success of the colony. The English captured the colony during the Second Anglo-Dutch War and governed it as the Province of New York. The city of New York was recaptured by the Dutch in 1673 during the Third Anglo-Dutch War (1672–1674) and renamed New Orange. It was returned to the English under the terms of the Treaty of Westminster a year later.\n",
    "\n",
    "\n",
    "== References ==\n",
    "\n",
    "\n",
    "== Further reading ==\n",
    "\n",
    "French, John Homer (1860). Historical and statistical gazetteer of New York State. Syracuse, New York: R. Pearsall Smith. OCLC 224691273. (Full text via Google Books.)\n",
    "New York State Historical Association (1940). New York: A Guide to the Empire State. New York City: Oxford University Press. ISBN 978-1-60354-031-5. OCLC 504264143. (Full text via Google Books.)\n",
    "\n",
    "\n",
    "== External links ==\n",
    "New York at DMOZ\n",
    " Geographic data related to New York at OpenStreetMap'''\n",
    "\n",
    "\n",
    "section_title_re = re.compile(\"^=+\\s+.*\\s+=+$\")\n",
    "content = []\n",
    "skip = False\n",
    "for l in testo.splitlines():\n",
    "    line = l.strip()\n",
    "    if \"= references =\" in line.lower():\n",
    "        skip = True  # replace with break if this is the last section\n",
    "        break\n",
    "    if \"= further reading =\" in line.lower():\n",
    "        skip = True  # replace with break if this is the last section\n",
    "        continue\n",
    "    if section_title_re.match(line):\n",
    "        skip = False\n",
    "        continue\n",
    "    if skip:\n",
    "        continue\n",
    "    content.append(line)\n",
    "\n",
    "i=0\n",
    "for x in content:\n",
    "    if x != \"\":\n",
    "        print(x.lower())\n",
    "        print('-----------------------------')"
   ]
  },
  {
   "attachments": {},
   "cell_type": "markdown",
   "metadata": {},
   "source": [
    "----\n",
    "Idee per andare avanti:\n",
    "1. Eliminare prima le doppie graffe (di apertura e chiusura) eliminando il loro contenuto\n",
    "\n",
    "2. Capire come gestire il comportamento delle stringhe tipo `[[political movement|movement]]` dove l'importante è contenuto dopo la pipe.\n",
    "\n",
    "3. Eliminare qualsiasi segno di punteggiature (creando una lista di tutti i simboli di punteggiatura) andandoli a rimpiazzare con un singolo spazio in modo che ogni parola sia distanziata effettivamente dall'altra\n",
    "\n",
    "4. Effettuare un replace di tutti gli spazi (ce ne serve solo uno tra una parola e l'altra, non di più), basta usare la classe `re`\n",
    "\n",
    "5. Ora che abbiamo tutto l'occorrente, salvare su un file csv ed effettuare l'analisi con _pyspark_\n",
    "\n",
    "----\n",
    "_Domande al professore:_\n",
    "\n",
    "__Risposte da scrivere nella documentazione finale__\n",
    "\n",
    "1. I numeri sono visti come parole? Sì\n",
    "\n",
    "2. Teniamo conto dei titoli dei sotto-capitoli? No\n",
    "\n",
    "3. Teniamo conto delle ''references''? No\n",
    "\n",
    "4. Posso usare PonyORM?"
   ]
  },
  {
   "attachments": {},
   "cell_type": "markdown",
   "metadata": {},
   "source": [
    "----"
   ]
  },
  {
   "cell_type": "code",
   "execution_count": 5,
   "metadata": {},
   "outputs": [],
   "source": [
    "def removeNestedParentheses(s):\n",
    "    ret = ''\n",
    "    skip = 0\n",
    "    for i in s:\n",
    "        if i == '{':\n",
    "            skip += 1\n",
    "        elif i == '}'and skip > 0:\n",
    "            skip -= 1\n",
    "        elif skip == 0:\n",
    "            ret += i\n",
    "    return ret"
   ]
  },
  {
   "cell_type": "code",
   "execution_count": 20,
   "metadata": {},
   "outputs": [
    {
     "name": "stderr",
     "output_type": "stream",
     "text": [
      "  0%|          | 0/100 [04:26<?, ?it/s]"
     ]
    },
    {
     "name": "stdout",
     "output_type": "stream",
     "text": [
      "Unexpected exception formatting exception. Falling back to standard exception\n"
     ]
    },
    {
     "name": "stderr",
     "output_type": "stream",
     "text": [
      "\n",
      "Traceback (most recent call last):\n",
      "  File \"/home/fabbro/.local/lib/python3.10/site-packages/IPython/core/interactiveshell.py\", line 3442, in run_code\n",
      "    exec(code_obj, self.user_global_ns, self.user_ns)\n",
      "  File \"/tmp/ipykernel_3621/4277889974.py\", line 43, in <module>\n",
      "    text = removeNestedParentheses(text)\n",
      "  File \"/tmp/ipykernel_3621/2135454401.py\", line -1, in removeNestedParentheses\n",
      "KeyboardInterrupt\n",
      "\n",
      "During handling of the above exception, another exception occurred:\n",
      "\n",
      "Traceback (most recent call last):\n",
      "  File \"/home/fabbro/.local/lib/python3.10/site-packages/IPython/core/interactiveshell.py\", line 2057, in showtraceback\n",
      "    stb = self.InteractiveTB.structured_traceback(\n",
      "  File \"/home/fabbro/.local/lib/python3.10/site-packages/IPython/core/ultratb.py\", line 1118, in structured_traceback\n",
      "    return FormattedTB.structured_traceback(\n",
      "  File \"/home/fabbro/.local/lib/python3.10/site-packages/IPython/core/ultratb.py\", line 1012, in structured_traceback\n",
      "    return VerboseTB.structured_traceback(\n",
      "  File \"/home/fabbro/.local/lib/python3.10/site-packages/IPython/core/ultratb.py\", line 865, in structured_traceback\n",
      "    formatted_exception = self.format_exception_as_a_whole(etype, evalue, etb, number_of_lines_of_context,\n",
      "  File \"/home/fabbro/.local/lib/python3.10/site-packages/IPython/core/ultratb.py\", line 818, in format_exception_as_a_whole\n",
      "    frames.append(self.format_record(r))\n",
      "  File \"/home/fabbro/.local/lib/python3.10/site-packages/IPython/core/ultratb.py\", line 736, in format_record\n",
      "    result += ''.join(_format_traceback_lines(frame_info.lines, Colors, self.has_colors, lvals))\n",
      "  File \"/home/fabbro/.local/lib/python3.10/site-packages/stack_data/utils.py\", line 144, in cached_property_wrapper\n",
      "    value = obj.__dict__[self.func.__name__] = self.func(obj)\n",
      "  File \"/home/fabbro/.local/lib/python3.10/site-packages/stack_data/core.py\", line 734, in lines\n",
      "    pieces = self.included_pieces\n",
      "  File \"/home/fabbro/.local/lib/python3.10/site-packages/stack_data/utils.py\", line 144, in cached_property_wrapper\n",
      "    value = obj.__dict__[self.func.__name__] = self.func(obj)\n",
      "  File \"/home/fabbro/.local/lib/python3.10/site-packages/stack_data/core.py\", line 681, in included_pieces\n",
      "    pos = scope_pieces.index(self.executing_piece)\n",
      "  File \"/home/fabbro/.local/lib/python3.10/site-packages/stack_data/utils.py\", line 144, in cached_property_wrapper\n",
      "    value = obj.__dict__[self.func.__name__] = self.func(obj)\n",
      "  File \"/home/fabbro/.local/lib/python3.10/site-packages/stack_data/core.py\", line 660, in executing_piece\n",
      "    return only(\n",
      "  File \"/home/fabbro/.local/lib/python3.10/site-packages/executing/executing.py\", line 190, in only\n",
      "    raise NotOneValueFound('Expected one value, found 0')\n",
      "executing.executing.NotOneValueFound: Expected one value, found 0\n"
     ]
    }
   ],
   "source": [
    "f= open(\"file.csv\", \"w+\")\n",
    "writer = csv.writer(f)\n",
    "writer.writerow(header)\n",
    "totalCount = 0\n",
    "section_title_re = re.compile(\"^=+\\s+.*\\s+=+$\")\n",
    "skip = False\n",
    "lista = []\n",
    "file_xml= ''\n",
    "\n",
    "if os.path.isfile(\"/home/fabbro/Documents/Cartella/fileWiki.xml\"):\n",
    "    file_xml = \"/home/fabbro/Documents/Cartella/fileWiki.xml\"\n",
    "elif os.path.isfile(\"/home/fabbro/Documents/Big-Data/file.xml\"):\n",
    "    file_xml = \"/home/fabbro/Documents/Big-Data/file.xml\"\n",
    "\n",
    "with tqdm(total=100) as pbar:\n",
    "    for event, elem in etree.iterparse(file_xml):\n",
    "        text = \"\"\n",
    "        title=\"\"\n",
    "        if('title' in str(elem.tag)):\n",
    "            if(elem.text is not None):\n",
    "                title = elem.text.lower()\n",
    "                lista.append(title)\n",
    "\n",
    "        if('text' in str(elem.tag)):\n",
    "            if(elem.text is not None):\n",
    "                text = elem.text.lower()\n",
    "                '''\n",
    "                wikicode = mwparserfromhell.parse(text)\n",
    "                templates = wikicode.filter_templates()\n",
    "                '''\n",
    "                '''if \"= references =\" in text_list[x].lower():\n",
    "                            skip = True  # replace with break if this is the last section\n",
    "                            break\n",
    "                        if \"= further reading =\" in text_list[x].lower():\n",
    "                            skip = True  # replace with break if this is the last section\n",
    "                            continue\n",
    "                        if section_title_re.match(line):\n",
    "                            skip = False\n",
    "                            continue\n",
    "                        if skip:\n",
    "                            continue'''\n",
    "                text = \" \".join([word for word in text.split() if word not in stop_words])\n",
    "                text = removeNestedParentheses(text)\n",
    "                #print(str(text))           \n",
    "        if len(lista) == 2:\n",
    "            writer.writerow([lista[0], lista[1]])\n",
    "            lista=[]\n",
    "        elem.clear()\n",
    "        totalCount += 1\n",
    "        if totalCount > 1 and (totalCount % 356900000000) == 0:\n",
    "            print(\"{:,}\".format(totalCount)+\" rows written of 100\")\n",
    "            pbar.update(1)\n",
    "\n",
    "f.close()\n",
    "print(\"-------------------------------------------DONE------------------------------------------------------\")"
   ]
  },
  {
   "cell_type": "code",
   "execution_count": 1,
   "metadata": {},
   "outputs": [
    {
     "name": "stdout",
     "output_type": "stream",
     "text": [
      "Defaulting to user installation because normal site-packages is not writeable\n",
      "Collecting pyspark\n",
      "  Downloading pyspark-3.3.1.tar.gz (281.4 MB)\n",
      "\u001b[2K     \u001b[90m━━━━━━━━━━━━━━━━━━━━━━━━━━━━━━━━━━━━━━\u001b[0m \u001b[32m281.4/281.4 MB\u001b[0m \u001b[31m10.0 MB/s\u001b[0m eta \u001b[36m0:00:00\u001b[0m00:01\u001b[0m00:01\u001b[0m\n",
      "\u001b[?25h  Preparing metadata (setup.py) ... \u001b[?25ldone\n",
      "\u001b[?25hCollecting py4j==0.10.9.5\n",
      "  Downloading py4j-0.10.9.5-py2.py3-none-any.whl (199 kB)\n",
      "\u001b[2K     \u001b[90m━━━━━━━━━━━━━━━━━━━━━━━━━━━━━━━━━━━━━━\u001b[0m \u001b[32m199.7/199.7 kB\u001b[0m \u001b[31m23.3 MB/s\u001b[0m eta \u001b[36m0:00:00\u001b[0m\n",
      "\u001b[?25hBuilding wheels for collected packages: pyspark\n",
      "  Building wheel for pyspark (setup.py) ... \u001b[?25ldone\n",
      "\u001b[?25h  Created wheel for pyspark: filename=pyspark-3.3.1-py2.py3-none-any.whl size=281845509 sha256=4f6cd40540ddc765622283dea8a5e91c61fca433cd4e56846d2415ad4ce5f643\n",
      "  Stored in directory: /home/fabbro/.cache/pip/wheels/0f/f0/3d/517368b8ce80486e84f89f214e0a022554e4ee64969f46279b\n",
      "Successfully built pyspark\n",
      "Installing collected packages: py4j, pyspark\n",
      "Successfully installed py4j-0.10.9.5 pyspark-3.3.1\n",
      "Note: you may need to restart the kernel to use updated packages.\n"
     ]
    }
   ],
   "source": [
    "pip install pyspark"
   ]
  },
  {
   "cell_type": "code",
   "execution_count": 6,
   "metadata": {},
   "outputs": [
    {
     "name": "stdout",
     "output_type": "stream",
     "text": [
      "23/01/16 14:56:24 WARN Utils: Your hostname, kerah resolves to a loopback address: 127.0.1.1; using 157.27.158.220 instead (on interface wlo1)\n",
      "23/01/16 14:56:24 WARN Utils: Set SPARK_LOCAL_IP if you need to bind to another address\n"
     ]
    },
    {
     "name": "stderr",
     "output_type": "stream",
     "text": [
      "Setting default log level to \"WARN\".\n",
      "To adjust logging level use sc.setLogLevel(newLevel). For SparkR, use setLogLevel(newLevel).\n"
     ]
    },
    {
     "name": "stdout",
     "output_type": "stream",
     "text": [
      "23/01/16 14:56:24 WARN NativeCodeLoader: Unable to load native-hadoop library for your platform... using builtin-java classes where applicable\n",
      "23/01/16 14:56:25 WARN Utils: Service 'SparkUI' could not bind on port 4040. Attempting port 4041.\n"
     ]
    },
    {
     "ename": "NameError",
     "evalue": "name 'SparkSession' is not defined",
     "output_type": "error",
     "traceback": [
      "\u001b[0;31m---------------------------------------------------------------------------\u001b[0m",
      "\u001b[0;31mNameError\u001b[0m                                 Traceback (most recent call last)",
      "Cell \u001b[0;32mIn[6], line 3\u001b[0m\n\u001b[1;32m      1\u001b[0m \u001b[39mimport\u001b[39;00m \u001b[39mpyspark\u001b[39;00m\n\u001b[1;32m      2\u001b[0m sc \u001b[39m=\u001b[39m pyspark\u001b[39m.\u001b[39mSparkContext(appName\u001b[39m=\u001b[39m\u001b[39m\"\u001b[39m\u001b[39mmySparkApp\u001b[39m\u001b[39m\"\u001b[39m)\n\u001b[0;32m----> 3\u001b[0m spark \u001b[39m=\u001b[39m SparkSession\u001b[39m.\u001b[39mbuilder\u001b[39m.\u001b[39mappName(\u001b[39m\"\u001b[39m\u001b[39mDatacamp Pyspark Tutorial\u001b[39m\u001b[39m\"\u001b[39m)\u001b[39m.\u001b[39mconfig(\u001b[39m\"\u001b[39m\u001b[39mspark.memory.offHeap.enabled\u001b[39m\u001b[39m\"\u001b[39m,\u001b[39m\"\u001b[39m\u001b[39mtrue\u001b[39m\u001b[39m\"\u001b[39m)\u001b[39m.\u001b[39mconfig(\u001b[39m\"\u001b[39m\u001b[39mspark.memory.offHeap.size\u001b[39m\u001b[39m\"\u001b[39m,\u001b[39m\"\u001b[39m\u001b[39m10g\u001b[39m\u001b[39m\"\u001b[39m)\u001b[39m.\u001b[39mgetOrCreate()\n",
      "\u001b[0;31mNameError\u001b[0m: name 'SparkSession' is not defined"
     ]
    }
   ],
   "source": [
    "import pyspark\n",
    "sc = pyspark.SparkContext(appName=\"mySparkApp\")\n"
   ]
  },
  {
   "cell_type": "code",
   "execution_count": 18,
   "metadata": {},
   "outputs": [
    {
     "name": "stdout",
     "output_type": "stream",
     "text": [
      "['Title,Text']\n",
      "['title,text', 1, 'accessiblecomputing,#redirect', 1, '[[computer']\n"
     ]
    }
   ],
   "source": [
    "input_filename = '/home/fabbro/Documents/Big-Data/file.csv'\n",
    "#input_filename = \"/Users/dcarra/Desktop/OneDrive - Università degli Studi di Verona/courses/BigData/PhD_course/2021/lab_notebooks/datasets/short_stories_I.txt\"\n",
    "input_file = sc.textFile(input_filename)\n",
    "\n",
    "#num_lines = input_file.count()\n",
    "#print(\"The number of lines in the input file is:\", num_lines)\n",
    "\n",
    "print(input_file.take(1))\n",
    "wordsList = input_file.filter(bool) \\\n",
    "            .flatMap(lambda line: line.split(\" \"))\\\n",
    "            .map(lambda w: w.lower())\n",
    "wordsKeyValue = wordsList.flatMap(lambda w: (w,1))\n",
    "print(wordsKeyValue.take(5))"
   ]
  },
  {
   "cell_type": "code",
   "execution_count": null,
   "metadata": {},
   "outputs": [],
   "source": [
    "df = spark.read.csv('file.csv',header=True,escape=\";\")"
   ]
  }
 ],
 "metadata": {
  "kernelspec": {
   "display_name": "Python 3",
   "language": "python",
   "name": "python3"
  },
  "language_info": {
   "codemirror_mode": {
    "name": "ipython",
    "version": 3
   },
   "file_extension": ".py",
   "mimetype": "text/x-python",
   "name": "python",
   "nbconvert_exporter": "python",
   "pygments_lexer": "ipython3",
   "version": "3.10.8 (main, Nov  1 2022, 14:18:21) [GCC 12.2.0]"
  },
  "orig_nbformat": 4,
  "vscode": {
   "interpreter": {
    "hash": "e7370f93d1d0cde622a1f8e1c04877d8463912d04d973331ad4851f04de6915a"
   }
  }
 },
 "nbformat": 4,
 "nbformat_minor": 2
}
