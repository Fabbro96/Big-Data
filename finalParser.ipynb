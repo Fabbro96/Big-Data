{
 "cells": [
  {
   "cell_type": "code",
   "execution_count": null,
   "metadata": {},
   "outputs": [],
   "source": [
    "from lxml import etree\n",
    "from lxml.etree import tostring\n",
    "\n",
    "tree = etree.parse('root.xml')\n",
    "root = tree.getroot()\n",
    "ID_list = []\n",
    "text_list = []\n",
    "for page in root.findall(\".//page\"):\n",
    "    # print(tostring(title))\n",
    "    print(page.text)\n",
    "    print(len(page.getchildren()))\n",
    "\n",
    "    items = page.getchildren()\n",
    "\n",
    "    id_value = \"\"\n",
    "    text_value = \"\"\n",
    "\n",
    "    for id in items:\n",
    "            if \"id\" in str(id.tag):\n",
    "                # print(\"ID: \"+str(id.text)+ \" - \"+str(page.find(\".//title\", namespaces=root.nsmap).text))\n",
    "                id_value = str(id.text)\n",
    "                ID_list.append(id_value)\n",
    "                id.clear()\n",
    "    for revision in page.findall(\".//revision\", namespaces=root.nsmap):\n",
    "            revisioni = revision.getchildren()\n",
    "            revision.clear()\n",
    "\n",
    "    for text in revisioni:\n",
    "            if \"text\" in str(text.tag):\n",
    "                # print(text.text)\n",
    "                text_list.append(text.text.replace(\"\\n\", \"\"))\n",
    "    page.clear()\n"
   ]
  },
  {
   "cell_type": "code",
   "execution_count": null,
   "metadata": {},
   "outputs": [],
   "source": [
    "import csv\n",
    "\n",
    "with open('file.csv', 'w', newline='') as file:\n",
    "    writer = csv.writer(file)\n",
    "    writer.writerow([\"ID\", \"TEXT\"])\n",
    "    for i in range(len(ID_list)):\n",
    "        writer.writerow([ID_list[i], text_list[i]])"
   ]
  }
 ],
 "metadata": {
  "kernelspec": {
   "display_name": "Python 3",
   "language": "python",
   "name": "python3"
  },
  "language_info": {
   "name": "python",
   "version": "3.10.6 (tags/v3.10.6:9c7b4bd, Aug  1 2022, 21:53:49) [MSC v.1932 64 bit (AMD64)]"
  },
  "orig_nbformat": 4,
  "vscode": {
   "interpreter": {
    "hash": "133fc6b019fa32ae9fcfaf20aebc390ffa5882654a427dc92ca86dac47bad951"
   }
  }
 },
 "nbformat": 4,
 "nbformat_minor": 2
}
