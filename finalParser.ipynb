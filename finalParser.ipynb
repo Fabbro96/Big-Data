{
 "cells": [
  {
   "cell_type": "code",
   "execution_count": null,
   "metadata": {},
   "outputs": [],
   "source": [
    "import csv\n",
    "from lxml import etree\n",
    "from nltk.tokenize import sent_tokenize, word_tokenize\n",
    "from nltk.corpus import stopwords\n",
    "import nltk\n",
    "\n",
    "header = ['Title', 'Text']\n",
    "f= open(\"file.csv\", \"w+\")\n",
    "writer = csv.writer(f)\n",
    "writer.writerow(header)\n",
    "lista = []\n",
    "\n",
    "totalCount = 0\n",
    "for event, elem in etree.iterparse(\"file.xml\"):\n",
    "    text = \"\"\n",
    "    title=\"\"\n",
    "    if('title' in str(elem.tag)):\n",
    "        #title_list.append(elem.text)\n",
    "        #titoliTxt.write(elem.text+\"\\n\")\n",
    "        if(len(str(elem.text)) > 0 and str(elem.text) != None):\n",
    "            title = elem.text\n",
    "            lista.append(title)\n",
    "    if('text' in str(elem.tag)):\n",
    "        #text_list.append(elem.text)\n",
    "        if(len(str(elem.text)) > 0 and str(elem.text) != None):\n",
    "            #paroleTxt.write(elem.text+\"\\n\")\n",
    "            text = elem.text\n",
    "            stop_words = set(stopwords.words('english'))\n",
    "            word_tokens = word_tokenize(elem.text)\n",
    "            \n",
    "            filtered_sentence = [w for w in word_tokens if not w.lower() in stop_words]\n",
    "            for w in word_tokens:\n",
    "                if w not in stop_words:\n",
    "                    filtered_sentence.append(w)\n",
    "            print(str(filtered_sentence))\n",
    "            #lista.append(str(filtered_sentence))\n",
    "            '''lista.append(elem.text)\n",
    "    if len(lista) ==2:\n",
    "        writer.writerow([lista[0], lista[1]])'''\n",
    "    lista=[]\n",
    "    elem.clear()\n",
    "    totalCount += 1\n",
    "    if totalCount > 1 and (totalCount % 100000) == 0:\n",
    "            print(\"{:,}\".format(totalCount)+\" rows written of 356,900,000\")\n",
    "    if totalCount > 35000:\n",
    "        break\n",
    "f.close()\n",
    "print(\"-------------------------------------------DONE------------------------------------------------------\")\n"
   ]
  },
  {
   "attachments": {},
   "cell_type": "markdown",
   "metadata": {},
   "source": [
    "# TODO: clear up wikipedia dump from markup code"
   ]
  },
  {
   "cell_type": "code",
   "execution_count": null,
   "metadata": {},
   "outputs": [],
   "source": [
    "import pandas as pd\n",
    "\n",
    "df = pd.read_csv(\"file.csv\", low_memory=True)\n",
    "print(df.head(5))"
   ]
  },
  {
   "cell_type": "code",
   "execution_count": null,
   "metadata": {},
   "outputs": [],
   "source": [
    "import nltk\n",
    "nltk.download('stopwords')\n",
    "stops = set(stopwords.words('english'))\n",
    "print(stops)"
   ]
  }
 ],
 "metadata": {
  "kernelspec": {
   "display_name": "Python 3",
   "language": "python",
   "name": "python3"
  },
  "language_info": {
   "codemirror_mode": {
    "name": "ipython",
    "version": 3
   },
   "file_extension": ".py",
   "mimetype": "text/x-python",
   "name": "python",
   "nbconvert_exporter": "python",
   "pygments_lexer": "ipython3",
   "version": "3.10.8 (main, Nov  1 2022, 14:18:21) [GCC 12.2.0]"
  },
  "orig_nbformat": 4,
  "vscode": {
   "interpreter": {
    "hash": "e7370f93d1d0cde622a1f8e1c04877d8463912d04d973331ad4851f04de6915a"
   }
  }
 },
 "nbformat": 4,
 "nbformat_minor": 2
}
